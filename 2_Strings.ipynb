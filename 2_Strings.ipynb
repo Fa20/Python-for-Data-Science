{
  "cells": [
    {
      "cell_type": "markdown",
      "metadata": {
        "id": "ObBown6mYdXN"
      },
      "source": [
        "# Strings\n",
        "\n",
        "A String is a collection of characters enclosed in a single or double quotation mark. Examples of can strings range from simple words to a whole essay (though I wouldn't recomend that :) ). Strings (referred to as \"str\" in the code) are one of the built-in data types in Python belonging to the Text type. We are already comfortable with numerical types such as int and float and will now continue with str."
      ]
    },
    {
      "cell_type": "markdown",
      "metadata": {
        "id": "W5jjoUXIYdXQ"
      },
      "source": [
        "\n",
        " We'll learn about the following:\n",
        "     \n",
        "    1.) Creating Strings\n",
        "    2.) Printing Strings\n",
        "    3.) String Indexing and Slicing\n",
        "    4.) String Properties\n",
        "    5.) String Methods\n",
        "    6.) Converting other data types to Strings\n",
        "    "
      ]
    },
    {
      "cell_type": "markdown",
      "metadata": {
        "id": "1bgWNwiwYdXT"
      },
      "source": [
        "## Creating a String\n"
      ]
    },
    {
      "cell_type": "code",
      "execution_count": null,
      "metadata": {
        "id": "y68LE0fMYdXV",
        "outputId": "b97ce881-1155-49f5-c0e6-ddbd9aaae439",
        "colab": {
          "base_uri": "https://localhost:8080/",
          "height": 35
        }
      },
      "outputs": [
        {
          "output_type": "execute_result",
          "data": {
            "text/plain": [
              "'hello'"
            ],
            "application/vnd.google.colaboratory.intrinsic+json": {
              "type": "string"
            }
          },
          "metadata": {},
          "execution_count": 4
        }
      ],
      "source": [
        "# Single or double quotation  - both work\n",
        "'hello'\n",
        "\"hello\""
      ]
    },
    {
      "cell_type": "code",
      "execution_count": null,
      "metadata": {
        "id": "pxyt0OFSYdXg",
        "outputId": "cb83b6b3-ffb7-46ac-f888-f4b1621ce342",
        "colab": {
          "base_uri": "https://localhost:8080/",
          "height": 129
        }
      },
      "outputs": [
        {
          "output_type": "error",
          "ename": "SyntaxError",
          "evalue": "ignored",
          "traceback": [
            "\u001b[0;36m  File \u001b[0;32m\"<ipython-input-2-917a4234bf73>\"\u001b[0;36m, line \u001b[0;32m2\u001b[0m\n\u001b[0;31m    ' I'm a mother'\u001b[0m\n\u001b[0m        ^\u001b[0m\n\u001b[0;31mSyntaxError\u001b[0m\u001b[0;31m:\u001b[0m invalid syntax\n"
          ]
        }
      ],
      "source": [
        "# Problem with single quotations\n",
        "' I'm a mother'"
      ]
    },
    {
      "cell_type": "code",
      "execution_count": null,
      "metadata": {
        "id": "fIP4hk0XYdXl",
        "outputId": "9eb6bf5f-e141-4734-c9ea-a2775f84c29b",
        "colab": {
          "base_uri": "https://localhost:8080/",
          "height": 35
        }
      },
      "outputs": [
        {
          "output_type": "execute_result",
          "data": {
            "text/plain": [
              "\"I'm a mother\""
            ],
            "application/vnd.google.colaboratory.intrinsic+json": {
              "type": "string"
            }
          },
          "metadata": {},
          "execution_count": 3
        }
      ],
      "source": [
        "# How to solve the above mentioned problem - use double quotation marks\n",
        "\"I'm a mother\""
      ]
    },
    {
      "cell_type": "markdown",
      "metadata": {
        "id": "R9GxvuFkYdX1"
      },
      "source": [
        "Now let's learn about printing strings!"
      ]
    },
    {
      "cell_type": "markdown",
      "metadata": {
        "id": "Khdr1_e8YdX4"
      },
      "source": [
        "##  print function.\n",
        "\n"
      ]
    },
    {
      "cell_type": "code",
      "execution_count": 1,
      "metadata": {
        "id": "ljQ63SYnYdYC",
        "outputId": "8927cd53-646c-4b6b-ca77-8b6c756b0c83",
        "colab": {
          "base_uri": "https://localhost:8080/"
        }
      },
      "outputs": [
        {
          "output_type": "stream",
          "name": "stdout",
          "text": [
            "hi my name is Hamms \n",
            "welcome\n"
          ]
        }
      ],
      "source": [
        "#  output multiple lines - only works with print\n",
        "'hi my name is Hamms '\n",
        "print('hi my name is Hamms ')\n",
        "'welcome'\n",
        "print('welcome')"
      ]
    },
    {
      "cell_type": "code",
      "execution_count": null,
      "metadata": {
        "id": "7HuEFCAdYdYF",
        "outputId": "59e93eaa-eadd-4be5-9fab-baa99b51fb69",
        "colab": {
          "base_uri": "https://localhost:8080/"
        }
      },
      "outputs": [
        {
          "output_type": "stream",
          "name": "stdout",
          "text": [
            "\thello\n",
            "\n",
            "hello\n"
          ]
        }
      ],
      "source": [
        "# Adding Whitespace to a String \n",
        "print('\\thello')\n",
        "print('\\nhello')"
      ]
    },
    {
      "cell_type": "code",
      "execution_count": null,
      "metadata": {
        "id": "zQE2uHZZYdYH",
        "outputId": "58db17f9-354a-4815-9e6c-8bf387f22922",
        "colab": {
          "base_uri": "https://localhost:8080/"
        }
      },
      "outputs": [
        {
          "output_type": "stream",
          "name": "stdout",
          "text": [
            "     Hello\n",
            "Hello    \n",
            "Hello\n"
          ]
        }
      ],
      "source": [
        "# Stripping Whitespace from the right, left and both\n",
        "L  = '     Hello    '\n",
        "print (L.rstrip())\n",
        "print (L.lstrip())\n",
        "print (L.strip())"
      ]
    },
    {
      "cell_type": "markdown",
      "metadata": {
        "id": "8sL8GViaYdYL"
      },
      "source": [
        "## String Basics"
      ]
    },
    {
      "cell_type": "markdown",
      "metadata": {
        "id": "AC7eNmo9YdYN"
      },
      "source": [
        "We can also use a function called len() to check the length of a string"
      ]
    },
    {
      "cell_type": "code",
      "execution_count": null,
      "metadata": {
        "id": "r5UTNDmBYdYP",
        "outputId": "4ca9bacb-2f5c-4897-94ad-bb50ff8978f5"
      },
      "outputs": [
        {
          "data": {
            "text/plain": [
              "2"
            ]
          },
          "execution_count": 8,
          "metadata": {},
          "output_type": "execute_result"
        }
      ],
      "source": [
        "# length of  the string s\n",
        "s='hi'\n",
        "len(s)\n"
      ]
    },
    {
      "cell_type": "markdown",
      "metadata": {
        "id": "b7Lj3ezwYdYR"
      },
      "source": [
        "## String Indexing\n",
        "\n",
        "In Python, Indexing starts from 0 and we use [ ]  after the name of an object to call its index\n"
      ]
    },
    {
      "cell_type": "code",
      "execution_count": null,
      "metadata": {
        "id": "df8uLilPYdYS"
      },
      "outputs": [],
      "source": [
        "#  s= Hello\n",
        "s = 'Hello'"
      ]
    },
    {
      "cell_type": "code",
      "execution_count": null,
      "metadata": {
        "id": "SmLfj242YdYU",
        "outputId": "d7827ef6-883c-44cc-d92d-08b71b17f142"
      },
      "outputs": [
        {
          "data": {
            "text/plain": [
              "'Hello'"
            ]
          },
          "execution_count": 10,
          "metadata": {},
          "output_type": "execute_result"
        }
      ],
      "source": [
        "# Check\n",
        "s"
      ]
    },
    {
      "cell_type": "code",
      "execution_count": null,
      "metadata": {
        "id": "hW6En2wRYdYV",
        "outputId": "1750ca30-a973-469f-cc9d-8f2b1b8dea83"
      },
      "outputs": [
        {
          "data": {
            "text/plain": [
              "'H'"
            ]
          },
          "execution_count": 11,
          "metadata": {},
          "output_type": "execute_result"
        }
      ],
      "source": [
        "# call first letter of s\n",
        "s[0]"
      ]
    },
    {
      "cell_type": "code",
      "execution_count": null,
      "metadata": {
        "id": "mZeuyfHEYdYY",
        "outputId": "1e880a0b-7227-4428-8fc3-1bab7cc40172"
      },
      "outputs": [
        {
          "data": {
            "text/plain": [
              "'l'"
            ]
          },
          "execution_count": 12,
          "metadata": {},
          "output_type": "execute_result"
        }
      ],
      "source": [
        " # call the third letter of  s\n",
        "s[2]"
      ]
    },
    {
      "cell_type": "markdown",
      "metadata": {
        "id": "RBZ2Qj8VYdYc"
      },
      "source": [
        "We can use a : to perform *slicing* which grabs everything up to a designated point. For example:"
      ]
    },
    {
      "cell_type": "code",
      "execution_count": null,
      "metadata": {
        "id": "2S0fOwZuYdYd",
        "outputId": "b36c7474-8245-4747-b566-67ebd86f2f16"
      },
      "outputs": [
        {
          "data": {
            "text/plain": [
              "'ello'"
            ]
          },
          "execution_count": 13,
          "metadata": {},
          "output_type": "execute_result"
        }
      ],
      "source": [
        "s[1:]"
      ]
    },
    {
      "cell_type": "code",
      "execution_count": null,
      "metadata": {
        "id": "lzftc9LjYdYf",
        "outputId": "36107500-87bd-4a58-8faf-861a1ad9e8bf",
        "colab": {
          "base_uri": "https://localhost:8080/",
          "height": 35
        }
      },
      "outputs": [
        {
          "output_type": "execute_result",
          "data": {
            "text/plain": [
              "'Hell'"
            ],
            "application/vnd.google.colaboratory.intrinsic+json": {
              "type": "string"
            }
          },
          "metadata": {},
          "execution_count": 11
        }
      ],
      "source": [
        "# Grab everything UP TO the 3rd index\n",
        "s[:4]"
      ]
    },
    {
      "cell_type": "code",
      "execution_count": null,
      "metadata": {
        "id": "KODGiBNFYdYh",
        "outputId": "1478df0f-9534-4862-88a5-239356348160"
      },
      "outputs": [
        {
          "data": {
            "text/plain": [
              "'Hello'"
            ]
          },
          "execution_count": 15,
          "metadata": {},
          "output_type": "execute_result"
        }
      ],
      "source": [
        "# Everything :\n",
        "s[:]"
      ]
    },
    {
      "cell_type": "code",
      "execution_count": null,
      "metadata": {
        "id": "ZH56vpIGYdYn",
        "outputId": "e0015001-5e36-4c0c-e09b-50fbba768cd2"
      },
      "outputs": [
        {
          "data": {
            "text/plain": [
              "'o'"
            ]
          },
          "execution_count": 16,
          "metadata": {},
          "output_type": "execute_result"
        }
      ],
      "source": [
        "# We can also use negative indexing to go backwards.\n",
        "# \n",
        "s[-1]\n"
      ]
    },
    {
      "cell_type": "code",
      "execution_count": null,
      "metadata": {
        "id": "TgXz_EpPYdYo",
        "outputId": "ab3acb5e-490e-4166-e4c5-b5f67dcab7d7"
      },
      "outputs": [
        {
          "data": {
            "text/plain": [
              "'Hell'"
            ]
          },
          "execution_count": 17,
          "metadata": {},
          "output_type": "execute_result"
        }
      ],
      "source": [
        "s[:-1]"
      ]
    },
    {
      "cell_type": "markdown",
      "metadata": {
        "collapsed": true,
        "id": "QZNLbz76YdYq"
      },
      "source": [
        "## Immutability Property\n",
        "Strings are immutable, which means that after assignment of its value their content can only be altered by overwritig the whole variable\n"
      ]
    },
    {
      "cell_type": "code",
      "execution_count": null,
      "metadata": {
        "id": "SBPdSfnvYdY6"
      },
      "outputs": [],
      "source": [
        "s = 'Hello World!'"
      ]
    },
    {
      "cell_type": "code",
      "execution_count": null,
      "metadata": {
        "id": "n7bqaqqEYdZB",
        "outputId": "285b894f-72e0-4f7b-8682-b89a844c360a"
      },
      "outputs": [
        {
          "ename": "TypeError",
          "evalue": "'str' object does not support item assignment",
          "output_type": "error",
          "traceback": [
            "\u001b[1;31m---------------------------------------------------------------------------\u001b[0m",
            "\u001b[1;31mTypeError\u001b[0m                                 Traceback (most recent call last)",
            "\u001b[1;32m<ipython-input-19-846579400c99>\u001b[0m in \u001b[0;36m<module>\u001b[1;34m\u001b[0m\n\u001b[0;32m      1\u001b[0m \u001b[1;31m# Let's try to change the first letter to 'x'\u001b[0m\u001b[1;33m\u001b[0m\u001b[1;33m\u001b[0m\u001b[1;33m\u001b[0m\u001b[0m\n\u001b[1;32m----> 2\u001b[1;33m \u001b[0ms\u001b[0m\u001b[1;33m[\u001b[0m\u001b[1;36m0\u001b[0m\u001b[1;33m]\u001b[0m\u001b[1;33m=\u001b[0m\u001b[1;34m'x'\u001b[0m\u001b[1;33m\u001b[0m\u001b[1;33m\u001b[0m\u001b[0m\n\u001b[0m",
            "\u001b[1;31mTypeError\u001b[0m: 'str' object does not support item assignment"
          ]
        }
      ],
      "source": [
        "# Let's try to change the first letter to 'x'\n",
        "s[0]='x'"
      ]
    },
    {
      "cell_type": "markdown",
      "metadata": {
        "id": "pnIQ60jIYdZC"
      },
      "source": [
        "\n",
        "#### Concatenate strings"
      ]
    },
    {
      "cell_type": "code",
      "execution_count": null,
      "metadata": {
        "id": "ZIWvhd-hYdZD",
        "outputId": "54f3d073-1e69-465d-a7dd-c9da3e43bf11",
        "colab": {
          "base_uri": "https://localhost:8080/",
          "height": 35
        }
      },
      "outputs": [
        {
          "output_type": "execute_result",
          "data": {
            "text/plain": [
              "'Please contact me'"
            ],
            "application/vnd.google.colaboratory.intrinsic+json": {
              "type": "string"
            }
          },
          "metadata": {},
          "execution_count": 28
        }
      ],
      "source": [
        "s = 'Please contact me'\n",
        "s"
      ]
    },
    {
      "cell_type": "code",
      "execution_count": null,
      "metadata": {
        "id": "Wyw5EMGFYdZF",
        "outputId": "11a2cdfd-5269-40a8-bb2e-2702153d57ae",
        "colab": {
          "base_uri": "https://localhost:8080/",
          "height": 35
        }
      },
      "outputs": [
        {
          "output_type": "execute_result",
          "data": {
            "text/plain": [
              "'Please contact me quickly!'"
            ],
            "application/vnd.google.colaboratory.intrinsic+json": {
              "type": "string"
            }
          },
          "metadata": {},
          "execution_count": 27
        }
      ],
      "source": [
        "# you can add strings to strings\n",
        "s + ' quickly!'"
      ]
    },
    {
      "cell_type": "code",
      "execution_count": null,
      "metadata": {
        "id": "WGyWoBN5YdZG",
        "outputId": "f42bef1c-b127-4173-ed3e-038af2824cd4",
        "colab": {
          "base_uri": "https://localhost:8080/",
          "height": 35
        }
      },
      "outputs": [
        {
          "output_type": "execute_result",
          "data": {
            "text/plain": [
              "'Please contact me'"
            ],
            "application/vnd.google.colaboratory.intrinsic+json": {
              "type": "string"
            }
          },
          "metadata": {},
          "execution_count": 29
        }
      ],
      "source": [
        "s"
      ]
    },
    {
      "cell_type": "code",
      "execution_count": null,
      "metadata": {
        "id": "DxjUpr5DYdZH"
      },
      "outputs": [],
      "source": [
        "# We can reassign s completely though!\n",
        "s = s + ' quickly!'"
      ]
    },
    {
      "cell_type": "code",
      "execution_count": null,
      "metadata": {
        "id": "qE0S7FjbYdZI",
        "outputId": "8781182b-b62b-45ce-8a9d-0aefca465bbc",
        "colab": {
          "base_uri": "https://localhost:8080/"
        }
      },
      "outputs": [
        {
          "output_type": "stream",
          "name": "stdout",
          "text": [
            "Please contact me quickly!\n"
          ]
        }
      ],
      "source": [
        "print(s)"
      ]
    },
    {
      "cell_type": "markdown",
      "metadata": {
        "id": "ZrNII7T0YdZK"
      },
      "source": [
        "Create repetition using the multiplication"
      ]
    },
    {
      "cell_type": "code",
      "execution_count": null,
      "metadata": {
        "id": "SU9CC-DqYdZL"
      },
      "outputs": [],
      "source": [
        "letter = 'hi'"
      ]
    },
    {
      "cell_type": "code",
      "execution_count": null,
      "metadata": {
        "id": "8uQcZhwfYdZO",
        "outputId": "3f69e6ea-00b8-4877-e687-235b441b0cdf",
        "colab": {
          "base_uri": "https://localhost:8080/",
          "height": 35
        }
      },
      "outputs": [
        {
          "output_type": "execute_result",
          "data": {
            "text/plain": [
              "'hihihihihihihihihihi'"
            ],
            "application/vnd.google.colaboratory.intrinsic+json": {
              "type": "string"
            }
          },
          "metadata": {},
          "execution_count": 25
        }
      ],
      "source": [
        "# multiply  letter by 10\n",
        "letter*10"
      ]
    },
    {
      "cell_type": "markdown",
      "metadata": {
        "id": "rj2oHqHtYdZQ"
      },
      "source": [
        "## Basic Built-in String methods\n",
        "\n",
        "\n",
        "object.method(parameters)\n"
      ]
    },
    {
      "cell_type": "code",
      "execution_count": null,
      "metadata": {
        "id": "KZy5XUr2YdZS",
        "outputId": "28abf7a1-bfa5-44fe-f48d-ae29a5c1ab47",
        "colab": {
          "base_uri": "https://localhost:8080/",
          "height": 35
        }
      },
      "outputs": [
        {
          "output_type": "execute_result",
          "data": {
            "text/plain": [
              "'Please contact me quickly!'"
            ],
            "application/vnd.google.colaboratory.intrinsic+json": {
              "type": "string"
            }
          },
          "metadata": {},
          "execution_count": 32
        }
      ],
      "source": [
        "s = 'Please contact me quickly!'\n",
        "s"
      ]
    },
    {
      "cell_type": "markdown",
      "metadata": {
        "id": "6FgiSYybYdZT"
      },
      "source": [
        "##### Changing case in a String"
      ]
    },
    {
      "cell_type": "code",
      "execution_count": null,
      "metadata": {
        "id": "xdetba2uYdZU",
        "outputId": "462a46a3-8d1a-4a3e-9297-6dddb7db99aa",
        "colab": {
          "base_uri": "https://localhost:8080/",
          "height": 35
        }
      },
      "outputs": [
        {
          "output_type": "execute_result",
          "data": {
            "text/plain": [
              "'PLEASE CONTACT ME QUICKLY!'"
            ],
            "application/vnd.google.colaboratory.intrinsic+json": {
              "type": "string"
            }
          },
          "metadata": {},
          "execution_count": 33
        }
      ],
      "source": [
        "# Upper Case a string\n",
        "s.upper()"
      ]
    },
    {
      "cell_type": "code",
      "execution_count": null,
      "metadata": {
        "id": "b2VRWuVJYdZV",
        "outputId": "81fddfaa-8d43-4b75-c5e7-52c582884faf",
        "colab": {
          "base_uri": "https://localhost:8080/",
          "height": 35
        }
      },
      "outputs": [
        {
          "output_type": "execute_result",
          "data": {
            "text/plain": [
              "'please contact me quickly!'"
            ],
            "application/vnd.google.colaboratory.intrinsic+json": {
              "type": "string"
            }
          },
          "metadata": {},
          "execution_count": 35
        }
      ],
      "source": [
        "# Lower case\n",
        "s.lower()"
      ]
    },
    {
      "cell_type": "code",
      "execution_count": null,
      "metadata": {
        "id": "zWi83EcUYdZW",
        "outputId": "c11d3fff-6d88-4c53-ec47-afccca0a5b8c",
        "colab": {
          "base_uri": "https://localhost:8080/",
          "height": 35
        }
      },
      "outputs": [
        {
          "output_type": "execute_result",
          "data": {
            "text/plain": [
              "'Please Contact Me Quickly!'"
            ],
            "application/vnd.google.colaboratory.intrinsic+json": {
              "type": "string"
            }
          },
          "metadata": {},
          "execution_count": 36
        }
      ],
      "source": [
        "# Only first letter of each word is capitalized\n",
        "s.title()"
      ]
    },
    {
      "cell_type": "code",
      "execution_count": null,
      "metadata": {
        "id": "tSRKtKiQYdZY",
        "outputId": "f87162ea-aeee-4dcc-afd7-83aa3cfb8b79",
        "colab": {
          "base_uri": "https://localhost:8080/"
        }
      },
      "outputs": [
        {
          "output_type": "execute_result",
          "data": {
            "text/plain": [
              "['Please', 'contact', 'me', 'quickly!']"
            ]
          },
          "metadata": {},
          "execution_count": 37
        }
      ],
      "source": [
        "# Split a string by blank space\n",
        "s.split()"
      ]
    },
    {
      "cell_type": "code",
      "execution_count": null,
      "metadata": {
        "id": "80jbz7UgYdZZ",
        "outputId": "da87bd4e-966f-438d-f28d-402e681b4059",
        "colab": {
          "base_uri": "https://localhost:8080/"
        }
      },
      "outputs": [
        {
          "output_type": "execute_result",
          "data": {
            "text/plain": [
              "['Please contact ', 'e quickly!']"
            ]
          },
          "metadata": {},
          "execution_count": 38
        }
      ],
      "source": [
        "# Split by the letter 'm' in s\n",
        "s.split('m')"
      ]
    },
    {
      "cell_type": "markdown",
      "metadata": {
        "id": "uaGdcRHUYdZa"
      },
      "source": [
        "##### Converting other data types into Strings (and Strings into others)"
      ]
    },
    {
      "cell_type": "code",
      "execution_count": null,
      "metadata": {
        "id": "7PjdEExwYdZb",
        "outputId": "94e047f7-8f9d-4bb5-92da-1193f05d5359"
      },
      "outputs": [
        {
          "name": "stdout",
          "output_type": "stream",
          "text": [
            "2021 is an unexpected year\n",
            "<class 'int'>\n",
            "2021\n",
            "<class 'int'>\n"
          ]
        },
        {
          "ename": "TypeError",
          "evalue": "unsupported operand type(s) for +: 'type' and 'str'",
          "output_type": "error",
          "traceback": [
            "\u001b[1;31m---------------------------------------------------------------------------\u001b[0m",
            "\u001b[1;31mTypeError\u001b[0m                                 Traceback (most recent call last)",
            "\u001b[1;32m<ipython-input-34-a23e60b6cc70>\u001b[0m in \u001b[0;36m<module>\u001b[1;34m\u001b[0m\n\u001b[0;32m      9\u001b[0m \u001b[0mprint\u001b[0m \u001b[1;33m(\u001b[0m\u001b[0mexample\u001b[0m\u001b[1;33m)\u001b[0m\u001b[1;33m\u001b[0m\u001b[1;33m\u001b[0m\u001b[0m\n\u001b[0;32m     10\u001b[0m \u001b[0mprint\u001b[0m \u001b[1;33m(\u001b[0m\u001b[0mtype\u001b[0m\u001b[1;33m(\u001b[0m\u001b[0mexample\u001b[0m\u001b[1;33m)\u001b[0m\u001b[1;33m)\u001b[0m\u001b[1;33m\u001b[0m\u001b[1;33m\u001b[0m\u001b[0m\n\u001b[1;32m---> 11\u001b[1;33m \u001b[0mprint\u001b[0m \u001b[1;33m(\u001b[0m\u001b[0mtype\u001b[0m\u001b[1;33m(\u001b[0m\u001b[0mexample\u001b[0m\u001b[1;33m)\u001b[0m \u001b[1;33m+\u001b[0m \u001b[1;34m\"is an unexpected year\"\u001b[0m\u001b[1;33m)\u001b[0m\u001b[1;33m\u001b[0m\u001b[1;33m\u001b[0m\u001b[0m\n\u001b[0m",
            "\u001b[1;31mTypeError\u001b[0m: unsupported operand type(s) for +: 'type' and 'str'"
          ]
        }
      ],
      "source": [
        "# In line 2 we have converted an example and it is now a String (only in line two!!!). But as we can see in line three it is\n",
        "# nevertheless an Integer. This is shown through the two print Statements \"is an unexpected year\" as it only works while the \n",
        "# example is a String\n",
        "\n",
        "example = 2021\n",
        "print (str(example) + \" is an unexpected year\")\n",
        "print (type(example))\n",
        "\n",
        "print (example)\n",
        "print (type(example))\n",
        "print (type(example) + \"is an unexpected year\")"
      ]
    },
    {
      "cell_type": "code",
      "execution_count": null,
      "metadata": {
        "id": "W9lt2HGlYdZk"
      },
      "outputs": [],
      "source": [
        ""
      ]
    }
  ],
  "metadata": {
    "kernelspec": {
      "display_name": "Python 3",
      "language": "python",
      "name": "python3"
    },
    "language_info": {
      "codemirror_mode": {
        "name": "ipython",
        "version": 3
      },
      "file_extension": ".py",
      "mimetype": "text/x-python",
      "name": "python",
      "nbconvert_exporter": "python",
      "pygments_lexer": "ipython3",
      "version": "3.8.5"
    },
    "colab": {
      "name": "2.Strings.ipynb",
      "provenance": []
    }
  },
  "nbformat": 4,
  "nbformat_minor": 0
}