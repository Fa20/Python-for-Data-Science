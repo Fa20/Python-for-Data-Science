{
  "cells": [
    {
      "cell_type": "markdown",
      "metadata": {
        "id": "RDWf1XBX8LMc"
      },
      "source": [
        "# Lists\n",
        "\n",
        "Lists are collections of items similar to lists in the real world. They include a number of different values, which may vary in their data type. A list can be looped over, duplicated, sliced, extended or shortened. Like all Sequence types, lists are indexed, starting with the number zero.\n",
        "\n",
        "You will now learn how to create a list using square brackets. \n",
        " \n",
        "In this section we will learn about:\n",
        "    \n",
        "    1.) Creating lists\n",
        "    2.) Indexing and Slicing Lists\n",
        "    3.) Basic List Methods\n",
        "    4.) Nesting Lists\n",
        "    5.) Introduction to List Comprehensions\n",
        "\n",
        "\n"
      ]
    },
    {
      "cell_type": "markdown",
      "metadata": {
        "id": "MhSZgrIk8LMd"
      },
      "source": [
        "#### Creating lists"
      ]
    },
    {
      "cell_type": "code",
      "execution_count": null,
      "metadata": {
        "colab": {
          "base_uri": "https://localhost:8080/"
        },
        "id": "9YL5Wp1i8LMf",
        "outputId": "5bae6645-80b9-42ff-edd9-d2ef03fe559c"
      },
      "outputs": [
        {
          "output_type": "execute_result",
          "data": {
            "text/plain": [
              "[1, 2, 3]"
            ]
          },
          "metadata": {},
          "execution_count": 13
        }
      ],
      "source": [
        "### Create a list which contains three elements: 1, 2 and 3 \n",
        "my_list = [1, 2, 3]\n",
        "my_list"
      ]
    },
    {
      "cell_type": "code",
      "execution_count": null,
      "metadata": {
        "id": "tEqHgcIO8LMh",
        "outputId": "ef346dc1-beba-44f7-b5f5-c338579776a9"
      },
      "outputs": [
        {
          "data": {
            "text/plain": [
              "['hello', 23, 100.232, 'A']"
            ]
          },
          "execution_count": 1,
          "metadata": {},
          "output_type": "execute_result"
        }
      ],
      "source": [
        "# Create another list which contains the elements  23, 100.232, 'A' and 'hello' \n",
        "\n",
        "my_list = ['hello', 23, 100.232, 'A']\n",
        "my_list"
      ]
    },
    {
      "cell_type": "code",
      "execution_count": null,
      "metadata": {
        "scrolled": false,
        "colab": {
          "base_uri": "https://localhost:8080/"
        },
        "id": "ss-tulST8LMk",
        "outputId": "6dcf19a5-655e-4957-d29d-03be8988bc5e"
      },
      "outputs": [
        {
          "output_type": "execute_result",
          "data": {
            "text/plain": [
              "3"
            ]
          },
          "metadata": {},
          "execution_count": 6
        }
      ],
      "source": [
        "# Check the length of my_list \n",
        "len(my_list)"
      ]
    },
    {
      "cell_type": "markdown",
      "metadata": {
        "id": "3hkZlTRL8LMl"
      },
      "source": [
        "### Indexing and Slicing\n"
      ]
    },
    {
      "cell_type": "code",
      "execution_count": null,
      "metadata": {
        "colab": {
          "base_uri": "https://localhost:8080/"
        },
        "id": "kYxLt16B8LMq",
        "outputId": "5525d5e3-bcc4-4040-88e4-a350135fb3c2"
      },
      "outputs": [
        {
          "output_type": "execute_result",
          "data": {
            "text/plain": [
              "1"
            ]
          },
          "metadata": {},
          "execution_count": 7
        }
      ],
      "source": [
        "# Grab the element at index 0\n",
        "my_list[0]"
      ]
    },
    {
      "cell_type": "code",
      "execution_count": null,
      "metadata": {
        "colab": {
          "base_uri": "https://localhost:8080/"
        },
        "id": "DHk3wJCX8LNB",
        "outputId": "ebf132f6-d68b-4b61-d1d4-e14471e20ded"
      },
      "outputs": [
        {
          "output_type": "execute_result",
          "data": {
            "text/plain": [
              "(3,)"
            ]
          },
          "metadata": {},
          "execution_count": 9
        }
      ],
      "source": [
        "# Grab everything in my_list starting from the second index\n",
        "my_list[2:]"
      ]
    },
    {
      "cell_type": "code",
      "execution_count": null,
      "metadata": {
        "colab": {
          "base_uri": "https://localhost:8080/"
        },
        "id": "KFClHbUD8LNC",
        "outputId": "fd0d52e0-4ac7-409e-d081-08980f5370fc"
      },
      "outputs": [
        {
          "output_type": "execute_result",
          "data": {
            "text/plain": [
              "(1, 2, 3)"
            ]
          },
          "metadata": {},
          "execution_count": 10
        }
      ],
      "source": [
        "# use only : to Grab everything \n",
        "my_list[:]"
      ]
    },
    {
      "cell_type": "code",
      "execution_count": null,
      "metadata": {
        "colab": {
          "base_uri": "https://localhost:8080/"
        },
        "id": "2unpaEos8LND",
        "outputId": "a0886d2b-949a-40ce-9c49-73956b104279"
      },
      "outputs": [
        {
          "output_type": "stream",
          "name": "stdout",
          "text": [
            "[1, 2, 3, 'hello world']\n"
          ]
        }
      ],
      "source": [
        "# use + to concatenate the list ['hello world'] to my_list \n",
        "print(my_list+ ['hello world'])"
      ]
    },
    {
      "cell_type": "code",
      "execution_count": null,
      "metadata": {
        "colab": {
          "base_uri": "https://localhost:8080/"
        },
        "id": "m_00FUfj8LNE",
        "outputId": "9178e37c-12f1-4d48-d14a-ef2c82af3002"
      },
      "outputs": [
        {
          "output_type": "execute_result",
          "data": {
            "text/plain": [
              "[1, 2, 3]"
            ]
          },
          "metadata": {},
          "execution_count": 15
        }
      ],
      "source": [
        "# show that the original list did not change \n",
        "my_list"
      ]
    },
    {
      "cell_type": "code",
      "execution_count": null,
      "metadata": {
        "id": "uDLuJ3Kd8LNF"
      },
      "outputs": [],
      "source": [
        "# Reassign list by adding the list ['Hello World']\n",
        "my_list = my_list + ['Hello world']"
      ]
    },
    {
      "cell_type": "code",
      "execution_count": null,
      "metadata": {
        "colab": {
          "base_uri": "https://localhost:8080/"
        },
        "id": "atFkIOMx8LNM",
        "outputId": "70f1463c-04bf-4734-85c6-5e80dc38d44f"
      },
      "outputs": [
        {
          "output_type": "execute_result",
          "data": {
            "text/plain": [
              "[1, 2, 3, 'Hello world']"
            ]
          },
          "metadata": {},
          "execution_count": 17
        }
      ],
      "source": [
        "# Show that my_list has changed\n",
        "my_list"
      ]
    },
    {
      "cell_type": "markdown",
      "metadata": {
        "id": "K65hLPhT8LNO"
      },
      "source": [
        "##### Create repetition using the multiplication"
      ]
    },
    {
      "cell_type": "code",
      "execution_count": null,
      "metadata": {
        "colab": {
          "base_uri": "https://localhost:8080/"
        },
        "id": "jFmy-jYI8LNO",
        "outputId": "3b772c00-2ab0-4c78-f39e-092ad4a1d2ef"
      },
      "outputs": [
        {
          "output_type": "execute_result",
          "data": {
            "text/plain": [
              "[1, 2, 3, 'Hello world', 1, 2, 3, 'Hello world']"
            ]
          },
          "metadata": {},
          "execution_count": 18
        }
      ],
      "source": [
        "# multiply my_list by 2\n",
        "my_list*2"
      ]
    },
    {
      "cell_type": "markdown",
      "metadata": {
        "id": "InY5SeGv8LNP"
      },
      "source": [
        "## Basic List Methods\n",
        "\n",
        "\n"
      ]
    },
    {
      "cell_type": "code",
      "execution_count": null,
      "metadata": {
        "colab": {
          "base_uri": "https://localhost:8080/"
        },
        "id": "Danwtgg-8LNP",
        "outputId": "ff28dfea-8046-49bf-f733-08464a26b425"
      },
      "outputs": [
        {
          "output_type": "execute_result",
          "data": {
            "text/plain": [
              "[1, 2, 3]"
            ]
          },
          "metadata": {},
          "execution_count": 19
        }
      ],
      "source": [
        "# Create a new list l that takes the numbers 1, 2 and 3 as elements \n",
        "l = [1, 2, 3]\n",
        "l"
      ]
    },
    {
      "cell_type": "markdown",
      "metadata": {
        "id": "2xi2mX6o8LNQ"
      },
      "source": [
        "Use the **append** method to add an element\n",
        "to the end of a list:"
      ]
    },
    {
      "cell_type": "code",
      "execution_count": null,
      "metadata": {
        "id": "VohSuBwG8LNQ"
      },
      "outputs": [],
      "source": [
        "# Append 'hello' to the list l\n",
        "l.append('hello')"
      ]
    },
    {
      "cell_type": "code",
      "execution_count": null,
      "metadata": {
        "colab": {
          "base_uri": "https://localhost:8080/"
        },
        "id": "_fz4P2JZ8LNR",
        "outputId": "4da8aef5-cd03-47a3-862f-aa1b46c27a1d"
      },
      "outputs": [
        {
          "output_type": "execute_result",
          "data": {
            "text/plain": [
              "[1, 2, 3, 'hello']"
            ]
          },
          "metadata": {},
          "execution_count": 24
        }
      ],
      "source": [
        "# Show that 'hello' has been appended\n",
        "l"
      ]
    },
    {
      "cell_type": "markdown",
      "metadata": {
        "id": "xDGEIeYT8LNR"
      },
      "source": [
        " **pop** method to \"pop\" a desired element from the list. "
      ]
    },
    {
      "cell_type": "code",
      "execution_count": null,
      "metadata": {
        "colab": {
          "base_uri": "https://localhost:8080/"
        },
        "id": "03jBm_V48LNS",
        "outputId": "a678479d-ee87-4a6a-a92f-97c4a0960582"
      },
      "outputs": [
        {
          "output_type": "execute_result",
          "data": {
            "text/plain": [
              "2"
            ]
          },
          "metadata": {},
          "execution_count": 28
        }
      ],
      "source": [
        "# Pop the second item\n",
        "l.pop(1)"
      ]
    },
    {
      "cell_type": "code",
      "execution_count": null,
      "metadata": {
        "colab": {
          "base_uri": "https://localhost:8080/"
        },
        "id": "ueNfDjIA8LNT",
        "outputId": "f1559bf7-309c-43f4-b6ba-a6bc1b8217f8"
      },
      "outputs": [
        {
          "output_type": "execute_result",
          "data": {
            "text/plain": [
              "[1, 3]"
            ]
          },
          "metadata": {},
          "execution_count": 35
        }
      ],
      "source": [
        "# Show that the desired item has been popped\n",
        "l "
      ]
    },
    {
      "cell_type": "code",
      "execution_count": null,
      "metadata": {
        "id": "dtKetyfc8LNT"
      },
      "outputs": [],
      "source": [
        "# default popped index is -1\n",
        "popped_item = l.pop()"
      ]
    },
    {
      "cell_type": "code",
      "execution_count": null,
      "metadata": {
        "colab": {
          "base_uri": "https://localhost:8080/"
        },
        "id": "nPAlo9RR8LNU",
        "outputId": "9c5de6b9-8fe7-453b-b63f-31bf715b773e"
      },
      "outputs": [
        {
          "output_type": "execute_result",
          "data": {
            "text/plain": [
              "3"
            ]
          },
          "metadata": {},
          "execution_count": 39
        }
      ],
      "source": [
        "popped_item"
      ]
    },
    {
      "cell_type": "code",
      "execution_count": null,
      "metadata": {
        "colab": {
          "base_uri": "https://localhost:8080/"
        },
        "id": "blRKVL6s8LNU",
        "outputId": "52fb6bd0-f942-4b56-9d9c-e051bf37cbc6"
      },
      "outputs": [
        {
          "output_type": "execute_result",
          "data": {
            "text/plain": [
              "[1]"
            ]
          },
          "metadata": {},
          "execution_count": 38
        }
      ],
      "source": [
        "# Show remaining list\n",
        "l"
      ]
    },
    {
      "cell_type": "markdown",
      "metadata": {
        "id": "fF1vs9ef8LNU"
      },
      "source": [
        "#### use \"*remove*\" to remove an item by value"
      ]
    },
    {
      "cell_type": "code",
      "execution_count": null,
      "metadata": {
        "id": "Nm1MQoam8LNV",
        "outputId": "88462a51-1433-4dde-e89a-14298ad7f792"
      },
      "outputs": [
        {
          "data": {
            "text/plain": [
              "['Python', 'Java', 'C++', 'Ruby']"
            ]
          },
          "execution_count": 4,
          "metadata": {},
          "output_type": "execute_result"
        }
      ],
      "source": [
        "# Do not forget that \"remove\" removes only the first value that matches the removing one. To delete all instances one must\n",
        "# loop over the list using remove\n",
        "PrgLanguages = [\"Ruby\", \"Python\", \"Java\", \"C++\", \"Ruby\"]\n",
        "PrgLanguages.remove(\"Ruby\")\n",
        "PrgLanguages"
      ]
    },
    {
      "cell_type": "code",
      "execution_count": null,
      "metadata": {
        "id": "7AumOVph8LNV",
        "outputId": "74ae5515-2f52-491a-cb97-9d083099de2d"
      },
      "outputs": [
        {
          "data": {
            "text/plain": [
              "['Python', 'Java', 'C++']"
            ]
          },
          "execution_count": 7,
          "metadata": {},
          "output_type": "execute_result"
        }
      ],
      "source": [
        "# Example of a looping while using remove\n",
        "PrgLanguages = [\"Ruby\", \"Python\", \"Java\", \"C++\", \"Ruby\"]\n",
        "for language in PrgLanguages :\n",
        "    if language == \"Ruby\" :\n",
        "        PrgLanguages.remove(language)\n",
        "    \n",
        "PrgLanguages"
      ]
    },
    {
      "cell_type": "markdown",
      "metadata": {
        "id": "38iBSFbD8LNW"
      },
      "source": [
        "#### Using \"del\" for deletion"
      ]
    },
    {
      "cell_type": "code",
      "execution_count": null,
      "metadata": {
        "id": "T7AB4pKW8LNW",
        "outputId": "cc581804-6b72-49fe-83a8-213371d25bee"
      },
      "outputs": [
        {
          "name": "stdout",
          "output_type": "stream",
          "text": [
            "['Ruby', 'Python', 'Java', 'Ruby']\n"
          ]
        }
      ],
      "source": [
        "# Del is used when you know exactly where the element is that you want to delete (index)\n",
        "PrgLanguages = [\"Ruby\", \"Python\", \"Java\", \"C++\", \"Ruby\"]\n",
        "del PrgLanguages [3]\n",
        "print (PrgLanguages)"
      ]
    },
    {
      "cell_type": "markdown",
      "metadata": {
        "id": "EnZjFAvq8LNW"
      },
      "source": [
        "######  **sort** method and the **reverse** method"
      ]
    },
    {
      "cell_type": "code",
      "execution_count": null,
      "metadata": {
        "id": "JOdKTXHA8LNX"
      },
      "outputs": [],
      "source": [
        "new_list = ['a','e','x','b','c']"
      ]
    },
    {
      "cell_type": "code",
      "execution_count": null,
      "metadata": {
        "id": "H1N8PkE38LNX",
        "outputId": "82faeb78-fc72-4702-acf1-190d2f579c81"
      },
      "outputs": [
        {
          "data": {
            "text/plain": [
              "['a', 'e', 'x', 'b', 'c']"
            ]
          },
          "execution_count": 15,
          "metadata": {},
          "output_type": "execute_result"
        }
      ],
      "source": [
        "\n",
        "new_list"
      ]
    },
    {
      "cell_type": "code",
      "execution_count": null,
      "metadata": {
        "id": "9_E5OoO88LNd"
      },
      "outputs": [],
      "source": [
        ""
      ]
    },
    {
      "cell_type": "code",
      "execution_count": null,
      "metadata": {
        "id": "aMW8rLwn8LNd"
      },
      "outputs": [],
      "source": [
        "# reverse the order of the list new_list\n",
        "new_list.reverse()"
      ]
    },
    {
      "cell_type": "code",
      "execution_count": null,
      "metadata": {
        "id": "hLfSIh6r8LNe",
        "outputId": "c511d784-b4d3-4a21-bfe7-5dc8d7449cb5"
      },
      "outputs": [
        {
          "data": {
            "text/plain": [
              "['c', 'b', 'x', 'e', 'a']"
            ]
          },
          "execution_count": 19,
          "metadata": {},
          "output_type": "execute_result"
        }
      ],
      "source": [
        "new_list"
      ]
    },
    {
      "cell_type": "code",
      "execution_count": null,
      "metadata": {
        "id": "APPTJq9x8LNe"
      },
      "outputs": [],
      "source": [
        "# Use sort to sort the list\n",
        "new_list.sort()"
      ]
    },
    {
      "cell_type": "code",
      "execution_count": null,
      "metadata": {
        "id": "58lEBm-z8LNe",
        "outputId": "11239946-53d0-40cd-b5b8-873f721d371c"
      },
      "outputs": [
        {
          "data": {
            "text/plain": [
              "['a', 'b', 'c', 'e', 'x']"
            ]
          },
          "execution_count": 21,
          "metadata": {},
          "output_type": "execute_result"
        }
      ],
      "source": [
        "new_list"
      ]
    },
    {
      "cell_type": "markdown",
      "metadata": {
        "id": "FY1f9wbT8LNf"
      },
      "source": [
        "## Nesting Lists\n"
      ]
    },
    {
      "cell_type": "code",
      "execution_count": null,
      "metadata": {
        "id": "kbsq1yUc8LNf"
      },
      "outputs": [],
      "source": [
        "# Let's make three lists\n",
        "lst_1=[1,2,3]\n",
        "lst_2=[4,5,6]\n",
        "lst_3=[7,8,9]\n",
        "\n",
        "# Make a list of lists to form a matrix\n",
        "matrix = [lst_1,lst_2,lst_3]"
      ]
    },
    {
      "cell_type": "code",
      "execution_count": null,
      "metadata": {
        "id": "N6fUMv6C8LNf",
        "outputId": "4659cf4b-ec90-40b2-9920-e111fdf4b278"
      },
      "outputs": [
        {
          "data": {
            "text/plain": [
              "[[1, 2, 3], [4, 5, 6], [7, 8, 9]]"
            ]
          },
          "execution_count": 34,
          "metadata": {},
          "output_type": "execute_result"
        }
      ],
      "source": [
        "# Show that the matrix has been formed\n",
        "matrix"
      ]
    },
    {
      "cell_type": "markdown",
      "metadata": {
        "id": "8jD6mi3z8LNg"
      },
      "source": [
        ""
      ]
    },
    {
      "cell_type": "code",
      "execution_count": null,
      "metadata": {
        "id": "YP2lhQtG8LNg",
        "outputId": "c9278547-4610-4bb3-dfb0-b1a24d29214f"
      },
      "outputs": [
        {
          "data": {
            "text/plain": [
              "[4, 5, 6]"
            ]
          },
          "execution_count": 36,
          "metadata": {},
          "output_type": "execute_result"
        }
      ],
      "source": [
        "# Grab the second item in the matrix\n",
        "matrix[1]"
      ]
    },
    {
      "cell_type": "code",
      "execution_count": null,
      "metadata": {
        "id": "G-HHGFJj8LNg",
        "outputId": "26391c6f-5285-4a6b-a8fe-7ef30a559185"
      },
      "outputs": [
        {
          "data": {
            "text/plain": [
              "2"
            ]
          },
          "execution_count": 37,
          "metadata": {},
          "output_type": "execute_result"
        }
      ],
      "source": [
        "# Grab the second element of the first item of the matrix\n",
        "matrix[0][1]\n"
      ]
    },
    {
      "cell_type": "markdown",
      "metadata": {
        "id": "6Lpk1W4W8LNh"
      },
      "source": [
        "# List Comprehensions\n",
        "\n",
        "\n",
        "[ (expression) for (element) in (iterable) ]\n",
        "\n",
        "There's also an optional 'if' condition:\n",
        "\n",
        "[ (expression) for (element) in (iterable) if (condition) ]"
      ]
    },
    {
      "cell_type": "code",
      "execution_count": null,
      "metadata": {
        "id": "OFIsUT5s8LNh"
      },
      "outputs": [],
      "source": [
        "# Build a list of squares\n",
        "squares = [x * x for x in (1 , 2, 3, 4)]"
      ]
    },
    {
      "cell_type": "code",
      "execution_count": null,
      "metadata": {
        "id": "FOFfr8M78LNi",
        "outputId": "50ce5378-7c5e-47b9-9417-af28786f2410"
      },
      "outputs": [
        {
          "data": {
            "text/plain": [
              "[1, 4, 9, 16]"
            ]
          },
          "execution_count": 23,
          "metadata": {},
          "output_type": "execute_result"
        }
      ],
      "source": [
        "# show squares\n",
        "squares"
      ]
    },
    {
      "cell_type": "code",
      "execution_count": null,
      "metadata": {
        "id": "2IGrsrPi8LNi"
      },
      "outputs": [],
      "source": [
        ""
      ]
    },
    {
      "cell_type": "code",
      "execution_count": null,
      "metadata": {
        "id": "50TgM5kf8LNj"
      },
      "outputs": [],
      "source": [
        ""
      ]
    }
  ],
  "metadata": {
    "kernelspec": {
      "display_name": "Python 3",
      "language": "python",
      "name": "python3"
    },
    "language_info": {
      "codemirror_mode": {
        "name": "ipython",
        "version": 3
      },
      "file_extension": ".py",
      "mimetype": "text/x-python",
      "name": "python",
      "nbconvert_exporter": "python",
      "pygments_lexer": "ipython3",
      "version": "3.8.5"
    },
    "colab": {
      "name": "3.Lists.ipynb",
      "provenance": []
    }
  },
  "nbformat": 4,
  "nbformat_minor": 0
}