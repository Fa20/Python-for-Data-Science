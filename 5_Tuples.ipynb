{
  "cells": [
    {
      "cell_type": "markdown",
      "metadata": {
        "id": "-fFm8eqfBPoX"
      },
      "source": [
        "# Tuples\n",
        "    \n",
        "Tuples look and act just like lists. Their items can be accessed just the way they would be in lists. The only difference \n",
        "between them is that, once created these tuples can not be changed. This means that removing as well as adding items is \n",
        "impossible with tuples.\n",
        "\n",
        "\n",
        "\n",
        "\n",
        "\n",
        "    1.) Constructing Tuples\n",
        "    2.) Basic Tuple Methods\n",
        "    3.) Immutability\n",
        "    4.) When to Use Tuples.\n",
        "\n",
        "\n",
        "## Create Tuples\n",
        "\n",
        "A tuple is indicated by using common bracets - (). Just like with lists, values are seperated through commas."
      ]
    },
    {
      "cell_type": "code",
      "execution_count": null,
      "metadata": {
        "id": "3qHKrAxjBPob"
      },
      "outputs": [],
      "source": [
        "#  create a tuple t with 1, 2 and 3 as elements\n",
        "tup = (1, 2, 3)"
      ]
    },
    {
      "cell_type": "code",
      "execution_count": null,
      "metadata": {
        "id": "8pbcTJSYBPor",
        "outputId": "6acb02af-92d8-48e4-a508-53d95c007f53"
      },
      "outputs": [
        {
          "data": {
            "text/plain": [
              "3"
            ]
          },
          "execution_count": 2,
          "metadata": {},
          "output_type": "execute_result"
        }
      ],
      "source": [
        "# Check the length of tup\n",
        "len(tup)"
      ]
    },
    {
      "cell_type": "code",
      "execution_count": null,
      "metadata": {
        "id": "IHY1GLghBPox",
        "outputId": "580901f4-09e5-49a6-e415-0a4e72cf8f10"
      },
      "outputs": [
        {
          "data": {
            "text/plain": [
              "('one', 2)"
            ]
          },
          "execution_count": 3,
          "metadata": {},
          "output_type": "execute_result"
        }
      ],
      "source": [
        "# Create a tuple t which contains the elments \"one\" and 2 \n",
        "tup = ('one',2)\n",
        "\n",
        "# Show that it works\n",
        "tup"
      ]
    },
    {
      "cell_type": "code",
      "execution_count": null,
      "metadata": {
        "id": "tbbcuWGnBPo2",
        "outputId": "fef8106f-8e4e-459c-8a41-8d3a5658bfa2"
      },
      "outputs": [
        {
          "data": {
            "text/plain": [
              "'one'"
            ]
          },
          "execution_count": 4,
          "metadata": {},
          "output_type": "execute_result"
        }
      ],
      "source": [
        "# Use indexing just like we did with lists\n",
        "\n",
        "tup[0]"
      ]
    },
    {
      "cell_type": "code",
      "execution_count": null,
      "metadata": {
        "id": "Za_0zasmBPo6",
        "outputId": "f5716027-1953-4d7e-b846-dda2eb085575"
      },
      "outputs": [
        {
          "data": {
            "text/plain": [
              "2"
            ]
          },
          "execution_count": 5,
          "metadata": {},
          "output_type": "execute_result"
        }
      ],
      "source": [
        "# Use slicing the way we used it on lists\n",
        "tup[-1]"
      ]
    },
    {
      "cell_type": "markdown",
      "metadata": {
        "id": "uLvNn5OIBPo-"
      },
      "source": [
        "## Basic Tuple Methods\n",
        "\n",
        "Just like lists, tuples have built-in methods e.g.index, count ..."
      ]
    },
    {
      "cell_type": "code",
      "execution_count": null,
      "metadata": {
        "id": "QkjgVIkzBPpB",
        "outputId": "d802f615-90d3-433c-890b-10a0972b5c54"
      },
      "outputs": [
        {
          "data": {
            "text/plain": [
              "0"
            ]
          },
          "execution_count": 6,
          "metadata": {},
          "output_type": "execute_result"
        }
      ],
      "source": [
        "# Find the index of 'one' in t up\n",
        "tup.index('one')"
      ]
    },
    {
      "cell_type": "code",
      "execution_count": null,
      "metadata": {
        "id": "PabDvhz2BPpM",
        "outputId": "b1ae2f34-138e-4c5b-90cb-6a3cd8ba4e91"
      },
      "outputs": [
        {
          "data": {
            "text/plain": [
              "1"
            ]
          },
          "execution_count": 7,
          "metadata": {},
          "output_type": "execute_result"
        }
      ],
      "source": [
        "# Use count() to count the amount 'one' occurs in tup\n",
        "\n",
        "tup.count('one')"
      ]
    },
    {
      "cell_type": "markdown",
      "metadata": {
        "id": "ZHfBoaXCBPpS"
      },
      "source": [
        "## Immutability\n",
        "\n",
        "Just like strings, tuples are immutable, meaning that after creation it can not be changed without reassigning the whole tuple "
      ]
    },
    {
      "cell_type": "code",
      "execution_count": null,
      "metadata": {
        "id": "ALr9nwDMBPpV",
        "outputId": "b4fc6a37-2b50-4d9a-be88-f533c1bbea3d"
      },
      "outputs": [
        {
          "ename": "TypeError",
          "evalue": "'tuple' object does not support item assignment",
          "output_type": "error",
          "traceback": [
            "\u001b[1;31m---------------------------------------------------------------------------\u001b[0m",
            "\u001b[1;31mTypeError\u001b[0m                                 Traceback (most recent call last)",
            "\u001b[1;32m<ipython-input-8-357066b07137>\u001b[0m in \u001b[0;36m<module>\u001b[1;34m\u001b[0m\n\u001b[1;32m----> 1\u001b[1;33m \u001b[0mt\u001b[0m\u001b[1;33m[\u001b[0m\u001b[1;36m0\u001b[0m\u001b[1;33m]\u001b[0m\u001b[1;33m=\u001b[0m \u001b[1;34m'hi'\u001b[0m\u001b[1;33m\u001b[0m\u001b[1;33m\u001b[0m\u001b[0m\n\u001b[0m",
            "\u001b[1;31mTypeError\u001b[0m: 'tuple' object does not support item assignment"
          ]
        }
      ],
      "source": [
        "tup[0]= 'hi'"
      ]
    },
    {
      "cell_type": "code",
      "execution_count": null,
      "metadata": {
        "id": "XZLesV7LBPpY",
        "outputId": "b24f4909-5c79-41ae-8363-b2e792a37b9d"
      },
      "outputs": [
        {
          "ename": "AttributeError",
          "evalue": "'tuple' object has no attribute 'append'",
          "output_type": "error",
          "traceback": [
            "\u001b[1;31m---------------------------------------------------------------------------\u001b[0m",
            "\u001b[1;31mAttributeError\u001b[0m                            Traceback (most recent call last)",
            "\u001b[1;32m<ipython-input-9-c76c9dab1001>\u001b[0m in \u001b[0;36m<module>\u001b[1;34m\u001b[0m\n\u001b[0;32m      1\u001b[0m \u001b[1;31m# use the append() method to insert new elements in t\u001b[0m\u001b[1;33m\u001b[0m\u001b[1;33m\u001b[0m\u001b[1;33m\u001b[0m\u001b[0m\n\u001b[0;32m      2\u001b[0m \u001b[1;33m\u001b[0m\u001b[0m\n\u001b[1;32m----> 3\u001b[1;33m \u001b[0mt\u001b[0m\u001b[1;33m.\u001b[0m\u001b[0mappend\u001b[0m\u001b[1;33m(\u001b[0m\u001b[1;36m3\u001b[0m\u001b[1;33m)\u001b[0m\u001b[1;33m\u001b[0m\u001b[1;33m\u001b[0m\u001b[0m\n\u001b[0m",
            "\u001b[1;31mAttributeError\u001b[0m: 'tuple' object has no attribute 'append'"
          ]
        }
      ],
      "source": [
        "# use the append() method to insert new elements in t\n",
        "\n",
        "tup.append(3)"
      ]
    },
    {
      "cell_type": "code",
      "source": [
        "tup = ('one', 2, 3)\n",
        "tup"
      ],
      "metadata": {
        "colab": {
          "base_uri": "https://localhost:8080/"
        },
        "id": "RxYnJJhBxKje",
        "outputId": "962d6960-3ace-4805-bbb5-f14393a2502a"
      },
      "execution_count": null,
      "outputs": [
        {
          "output_type": "execute_result",
          "data": {
            "text/plain": [
              "('one', 2, 3)"
            ]
          },
          "metadata": {},
          "execution_count": 2
        }
      ]
    },
    {
      "cell_type": "code",
      "execution_count": null,
      "metadata": {
        "id": "8d_3vC0DBPpd"
      },
      "outputs": [],
      "source": [
        ""
      ]
    }
  ],
  "metadata": {
    "kernelspec": {
      "display_name": "Python 3",
      "language": "python",
      "name": "python3"
    },
    "language_info": {
      "codemirror_mode": {
        "name": "ipython",
        "version": 3
      },
      "file_extension": ".py",
      "mimetype": "text/x-python",
      "name": "python",
      "nbconvert_exporter": "python",
      "pygments_lexer": "ipython3",
      "version": "3.8.5"
    },
    "colab": {
      "name": "5.Tuples.ipynb",
      "provenance": []
    }
  },
  "nbformat": 4,
  "nbformat_minor": 0
}