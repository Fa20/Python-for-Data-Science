{
  "cells": [
    {
      "cell_type": "markdown",
      "metadata": {
        "id": "CXNyB1ow8A4U"
      },
      "source": [
        "# Dictionaries\n",
        "\n",
        "   Dictionaries consist of key-value pairs that are unordered, indexed and accessible through the key. While the values can all \n",
        "   have different data types, the key must always be a string. Keys are always unique but the values can be duplicated.\n",
        "\n",
        "   \n",
        "   \n",
        "   Dictionaries are mapping types.\n",
        "\n",
        "\n",
        "\n",
        "    1.) Creating a Dictionary\n",
        "    2.) Accessing objects from a dictionary\n",
        "    3.) Nesting Dictionaries\n",
        "    4.) Basic Dictionary Methods\n",
        "    5.) Dict Comprehension\n",
        "\n",
        "\n",
        "\n",
        "## Creating a Dictionary\n",
        "    \n",
        "Dictionaries are defined through curly brackets ({}). The key-value pairs are then sperated through a colon (:).\n"
      ]
    },
    {
      "cell_type": "code",
      "execution_count": null,
      "metadata": {
        "id": "uaB0rTUM8A4c"
      },
      "outputs": [],
      "source": [
        "# Make an empty dictionary\n",
        "example =  {}  \n",
        "\n",
        "# create my_dict with the keys 'key1', 'key2' and 'key3' as well as the corresponding values 'value1', 'value2' and 'value3'\n",
        "example ={'key1':'value1','key2':'value2','key3':'value3'} "
      ]
    },
    {
      "cell_type": "code",
      "execution_count": null,
      "metadata": {
        "id": "eDGtcSL28A4g",
        "outputId": "cce124fa-aea0-49b8-b6ac-8a340dcce277"
      },
      "outputs": [
        {
          "data": {
            "text/plain": [
              "'value2'"
            ]
          },
          "execution_count": 7,
          "metadata": {},
          "output_type": "execute_result"
        }
      ],
      "source": [
        "# Check the value of any key\n",
        "example['key2']"
      ]
    },
    {
      "cell_type": "code",
      "execution_count": null,
      "metadata": {
        "id": "8pViDw7j8A4o",
        "outputId": "5f74d0c8-4571-4128-a5fd-cc9a631c48c2",
        "colab": {
          "base_uri": "https://localhost:8080/"
        }
      },
      "outputs": [
        {
          "output_type": "execute_result",
          "data": {
            "text/plain": [
              "{'key1': 69, 'key2': [10, 20, 30], 'key3': ['item0', 'item1', 'item2']}"
            ]
          },
          "metadata": {},
          "execution_count": 9
        }
      ],
      "source": [
        "# make a list with three different values of different data types and use these types to replace each value in the dictionary\n",
        "\n",
        "list = [69, [10, 20, 30], ['item0', 'item1', 'item2']]\n",
        "\n",
        "example['key1'] = list[0]\n",
        "example['key2'] = list[1]\n",
        "example['key3'] = list[2]\n",
        "example"
      ]
    },
    {
      "cell_type": "code",
      "execution_count": null,
      "metadata": {
        "id": "jVf62f_P8A4s",
        "outputId": "d2c58977-96cc-40b4-e019-fe22e50684a4",
        "colab": {
          "base_uri": "https://localhost:8080/"
        }
      },
      "outputs": [
        {
          "output_type": "execute_result",
          "data": {
            "text/plain": [
              "['item0', 'item1', 'item2']"
            ]
          },
          "metadata": {},
          "execution_count": 11
        }
      ],
      "source": [
        "# Check the value of key3\n",
        "\n",
        "example['key3']\n"
      ]
    },
    {
      "cell_type": "code",
      "execution_count": null,
      "metadata": {
        "id": "CELniX5G8A4v",
        "outputId": "8a8e9ab7-91ef-43d2-915c-ed0c44b3fb91",
        "colab": {
          "base_uri": "https://localhost:8080/",
          "height": 197
        }
      },
      "outputs": [
        {
          "output_type": "error",
          "ename": "KeyError",
          "evalue": "ignored",
          "traceback": [
            "\u001b[0;31m---------------------------------------------------------------------------\u001b[0m",
            "\u001b[0;31mKeyError\u001b[0m                                  Traceback (most recent call last)",
            "\u001b[0;32m<ipython-input-14-f38eceb15eab>\u001b[0m in \u001b[0;36m<module>\u001b[0;34m()\u001b[0m\n\u001b[1;32m      1\u001b[0m \u001b[0;31m# Try to access the key of 69\u001b[0m\u001b[0;34m\u001b[0m\u001b[0;34m\u001b[0m\u001b[0;34m\u001b[0m\u001b[0m\n\u001b[1;32m      2\u001b[0m \u001b[0mexample\u001b[0m \u001b[0;34m=\u001b[0m \u001b[0;34m{\u001b[0m\u001b[0;34m'key1'\u001b[0m \u001b[0;34m:\u001b[0m \u001b[0;36m69\u001b[0m\u001b[0;34m,\u001b[0m \u001b[0;34m'key2'\u001b[0m\u001b[0;34m:\u001b[0m\u001b[0;34m[\u001b[0m\u001b[0;36m10\u001b[0m\u001b[0;34m,\u001b[0m \u001b[0;36m20\u001b[0m\u001b[0;34m,\u001b[0m \u001b[0;36m30\u001b[0m\u001b[0;34m]\u001b[0m\u001b[0;34m,\u001b[0m \u001b[0;34m'key3'\u001b[0m\u001b[0;34m:\u001b[0m\u001b[0;34m[\u001b[0m\u001b[0;34m'item0'\u001b[0m\u001b[0;34m,\u001b[0m \u001b[0;34m'item1'\u001b[0m\u001b[0;34m,\u001b[0m \u001b[0;34m'item2'\u001b[0m\u001b[0;34m]\u001b[0m\u001b[0;34m}\u001b[0m\u001b[0;34m\u001b[0m\u001b[0;34m\u001b[0m\u001b[0m\n\u001b[0;32m----> 3\u001b[0;31m \u001b[0mexample\u001b[0m\u001b[0;34m[\u001b[0m\u001b[0;36m69\u001b[0m\u001b[0;34m]\u001b[0m\u001b[0;34m\u001b[0m\u001b[0;34m\u001b[0m\u001b[0m\n\u001b[0m",
            "\u001b[0;31mKeyError\u001b[0m: 69"
          ]
        }
      ],
      "source": [
        "# Try to access the key of 69\n",
        "example[69]\n",
        "#Can only use keys to access values, not the other way round"
      ]
    },
    {
      "cell_type": "code",
      "execution_count": null,
      "metadata": {
        "id": "0jemnBsZ8A46",
        "outputId": "140aa899-9e6d-4735-8e3f-19785ebab53a"
      },
      "outputs": [
        {
          "data": {
            "text/plain": [
              "'ITEM0'"
            ]
          },
          "execution_count": 12,
          "metadata": {},
          "output_type": "execute_result"
        }
      ],
      "source": [
        "# Use the method upper() on the first item of the list stored in key3 (from \"item0\" to \"ITEM0\")\n",
        "example['key3'][0].upper()"
      ]
    },
    {
      "cell_type": "markdown",
      "metadata": {
        "id": "1knRgsqv8A5G"
      },
      "source": [
        "We can affect the values of a key as well. For instance:"
      ]
    },
    {
      "cell_type": "code",
      "execution_count": null,
      "metadata": {
        "id": "-O7WROGo8A5L",
        "outputId": "28a45b8c-a4ad-4cb8-8229-91390f7684fa",
        "colab": {
          "base_uri": "https://localhost:8080/"
        }
      },
      "outputs": [
        {
          "output_type": "execute_result",
          "data": {
            "text/plain": [
              "69"
            ]
          },
          "metadata": {},
          "execution_count": 15
        }
      ],
      "source": [
        "example['key1']"
      ]
    },
    {
      "cell_type": "code",
      "execution_count": null,
      "metadata": {
        "id": "n9NC2ilI8A5O"
      },
      "outputs": [],
      "source": [
        "# Subtract 69 from the value of key1. Make the changes permanent\n",
        "example['key1'] = example['key1']-69"
      ]
    },
    {
      "cell_type": "code",
      "execution_count": null,
      "metadata": {
        "id": "dKFJxjpi8A5T",
        "outputId": "360a0d88-7288-4473-999f-f01037747a8e"
      },
      "outputs": [
        {
          "data": {
            "text/plain": [
              "0"
            ]
          },
          "execution_count": 17,
          "metadata": {},
          "output_type": "execute_result"
        }
      ],
      "source": [
        "# Check whether or not it really did change\n",
        "example['key1']\n"
      ]
    },
    {
      "cell_type": "markdown",
      "metadata": {
        "id": "_QyBTahO8A5X"
      },
      "source": [
        " instead we can use  += or -=  "
      ]
    },
    {
      "cell_type": "code",
      "execution_count": null,
      "metadata": {
        "id": "X4a-7QC18A5a",
        "outputId": "b357f424-35ea-41c6-f78a-5d07c90b2b90"
      },
      "outputs": [
        {
          "data": {
            "text/plain": [
              "-123"
            ]
          },
          "execution_count": 18,
          "metadata": {},
          "output_type": "execute_result"
        }
      ],
      "source": [
        "# Set the object equal to itself minus 123 \n",
        "example['key1']-=123\n",
        "# Code here\n",
        "example['key1']"
      ]
    },
    {
      "cell_type": "code",
      "execution_count": null,
      "metadata": {
        "id": "YjsYMa5_8A5c"
      },
      "outputs": [],
      "source": [
        "# Create a new dictionary\n",
        "newDict = {}"
      ]
    },
    {
      "cell_type": "code",
      "execution_count": null,
      "metadata": {
        "id": "93IlnoyY8A5e"
      },
      "outputs": [],
      "source": [
        "# Create a new key through assignment - Let the key be \"animal\" and the value \"dog\"\n",
        "newDict['animal']='Dog'"
      ]
    },
    {
      "cell_type": "code",
      "execution_count": null,
      "metadata": {
        "id": "XFXqBj2f8A5h"
      },
      "outputs": [],
      "source": [
        "# Create a key \"answer\" with the value 42 (Integer)\n",
        "newDict['answer']=42"
      ]
    },
    {
      "cell_type": "code",
      "execution_count": null,
      "metadata": {
        "id": "YroyGbr88A5i",
        "outputId": "3c817c66-93b0-4687-ac52-b144360834cc",
        "colab": {
          "base_uri": "https://localhost:8080/"
        }
      },
      "outputs": [
        {
          "output_type": "execute_result",
          "data": {
            "text/plain": [
              "{'animal': 'Dog', 'answer': 42}"
            ]
          },
          "metadata": {},
          "execution_count": 1
        }
      ],
      "source": [
        "#Show\n",
        "newDict"
      ]
    },
    {
      "cell_type": "markdown",
      "metadata": {
        "id": "u4-9HBtX8A5k"
      },
      "source": [
        "## Nesting with Dictionaries\n",
        "\n"
      ]
    },
    {
      "cell_type": "code",
      "execution_count": null,
      "metadata": {
        "id": "O9IMH8sL8A5n",
        "outputId": "33e15e60-e536-4934-c145-75486cf41c12"
      },
      "outputs": [
        {
          "data": {
            "text/plain": [
              "'Hannes'"
            ]
          },
          "execution_count": 23,
          "metadata": {},
          "output_type": "execute_result"
        }
      ],
      "source": [
        "# You can store dictionaries in dictionaries\n",
        "dict1={'name':'Hannes', 'age':23}\n",
        "dict2={'name': 'Haya','age':10}\n",
        "dict3={'name':'peter','age':25}\n",
        "dict_name=[dict1,dict2,dict3]\n",
        "dict_name[0]['name']"
      ]
    },
    {
      "cell_type": "markdown",
      "metadata": {
        "id": "6za709L48A5t"
      },
      "source": [
        "Let's see  **a list in a dictionary**"
      ]
    },
    {
      "cell_type": "code",
      "execution_count": null,
      "metadata": {
        "id": "vcb_2JL28A5u",
        "outputId": "6abf624d-f4b0-4824-f9b5-90e23fee3129"
      },
      "outputs": [
        {
          "data": {
            "text/plain": [
              "'Haya'"
            ]
          },
          "execution_count": 25,
          "metadata": {},
          "output_type": "execute_result"
        }
      ],
      "source": [
        "# The value must not always be a single element. It can also be a list\n",
        "dict_name={'name':['Hannes','Haya','peter']}\n",
        "dict_name['name'][1]"
      ]
    },
    {
      "cell_type": "code",
      "execution_count": null,
      "metadata": {
        "id": "iQ9x53Tm8A5v",
        "outputId": "d38badbb-0de3-4d00-b4a5-5d3099d51810"
      },
      "outputs": [
        {
          "name": "stdout",
          "output_type": "stream",
          "text": [
            "Haya is 12\n"
          ]
        }
      ],
      "source": [
        "dict_name={'name':['Hannes','Haya','peter'],'age':[11,12,45]}\n",
        "name=dict_name['name'][1]\n",
        "age=dict_name['age'][1]\n",
        "print(name+' is'+' '+str(age))\n"
      ]
    },
    {
      "cell_type": "markdown",
      "metadata": {
        "id": "Z9SUoiDU8A5y"
      },
      "source": [
        "**A dictionary in a dictionary**\n",
        "\n",
        "you can nest a dictionary inside another dictionary"
      ]
    },
    {
      "cell_type": "code",
      "execution_count": null,
      "metadata": {
        "id": "PuyGnqPP8A53"
      },
      "outputs": [],
      "source": [
        "# Dictionary nested inside a dictionary which is nested inside a third dictionary\n",
        "d = {'key1':{'nestkey':{'subnestkey':'value'}}}"
      ]
    },
    {
      "cell_type": "code",
      "execution_count": null,
      "metadata": {
        "id": "8wWoDz418A56",
        "outputId": "9ee8d144-4ce8-4b63-9e81-64a94bcc3e23"
      },
      "outputs": [
        {
          "data": {
            "text/plain": [
              "'value'"
            ]
          },
          "execution_count": 29,
          "metadata": {},
          "output_type": "execute_result"
        }
      ],
      "source": [
        "# Keep calling the keys\n",
        "d['key1']['nestkey']['subnestkey']\n"
      ]
    },
    {
      "cell_type": "markdown",
      "metadata": {
        "id": "5B2BsPfO8A58"
      },
      "source": [
        "##  Dictionary Methods\n",
        "\n"
      ]
    },
    {
      "cell_type": "code",
      "execution_count": null,
      "metadata": {
        "id": "Ndpvp8bU8A59"
      },
      "outputs": [],
      "source": [
        "# Create a typical dictionary\n",
        "d = {'key1':1,'key2':2,'key3':3}"
      ]
    },
    {
      "cell_type": "code",
      "execution_count": null,
      "metadata": {
        "id": "n0t9Sl3S8A6D",
        "outputId": "ad184d73-9d71-46a2-e47c-9c2405ea8396"
      },
      "outputs": [
        {
          "data": {
            "text/plain": [
              "dict_keys(['key1', 'key2', 'key3'])"
            ]
          },
          "execution_count": 32,
          "metadata": {},
          "output_type": "execute_result"
        }
      ],
      "source": [
        "# use the Method 'x.keys()' to return a list of all keys  \n",
        "d.keys()"
      ]
    },
    {
      "cell_type": "code",
      "execution_count": null,
      "metadata": {
        "id": "fuSCOQqI8A6E",
        "outputId": "b9e5270c-f4d6-4c84-e3a7-0c3d362149cb"
      },
      "outputs": [
        {
          "data": {
            "text/plain": [
              "dict_values([1, 2, 3])"
            ]
          },
          "execution_count": 33,
          "metadata": {},
          "output_type": "execute_result"
        }
      ],
      "source": [
        "# use the Method 'x.values()' to grab all values \n",
        "d.values()"
      ]
    },
    {
      "cell_type": "code",
      "execution_count": null,
      "metadata": {
        "id": "F3fbwSUF8A6I",
        "outputId": "df32f743-9a46-4d8d-fbe1-b4582c8ba4d5"
      },
      "outputs": [
        {
          "data": {
            "text/plain": [
              "dict_items([('key1', 1), ('key2', 2), ('key3', 3)])"
            ]
          },
          "execution_count": 34,
          "metadata": {},
          "output_type": "execute_result"
        }
      ],
      "source": [
        "# use the Method 'items()' to return tuples of all key and values\n",
        "d.items()"
      ]
    },
    {
      "cell_type": "code",
      "execution_count": null,
      "metadata": {
        "id": "mFCSyyPe8A6M"
      },
      "outputs": [],
      "source": [
        "# create a copy from the Dictionary \n",
        "\n",
        "d2=d.copy()"
      ]
    },
    {
      "cell_type": "code",
      "execution_count": null,
      "metadata": {
        "id": "mRp2TogJ8A6N",
        "outputId": "9c7d3ae2-5bc1-48b8-e8e2-c4dfa2919b19"
      },
      "outputs": [
        {
          "data": {
            "text/plain": [
              "{'key1': 1, 'key2': 2, 'key3': 3}"
            ]
          },
          "execution_count": 36,
          "metadata": {},
          "output_type": "execute_result"
        }
      ],
      "source": [
        "d2"
      ]
    },
    {
      "cell_type": "code",
      "execution_count": null,
      "metadata": {
        "id": "s0AaIObG8A6O",
        "outputId": "0d82db27-a5a9-469a-b4df-b9d49e5d2c69"
      },
      "outputs": [
        {
          "data": {
            "text/plain": [
              "{}"
            ]
          },
          "execution_count": 37,
          "metadata": {},
          "output_type": "execute_result"
        }
      ],
      "source": [
        "# clear the dictionary \n",
        "d2.clear()\n",
        "\n",
        "# show d2\n",
        "d2"
      ]
    },
    {
      "cell_type": "code",
      "execution_count": null,
      "metadata": {
        "id": "Ued35bb88A6Q"
      },
      "outputs": [],
      "source": [
        "# try to delete d2 from the dictionary  \n",
        "del(d2)\n",
        "d2"
      ]
    },
    {
      "cell_type": "code",
      "execution_count": null,
      "metadata": {
        "id": "2LDpHUi28A6R",
        "outputId": "ce00b7a7-5cfc-4061-b039-f5b496d156b9"
      },
      "outputs": [
        {
          "data": {
            "text/plain": [
              "{'name': None, 'age': None}"
            ]
          },
          "execution_count": 39,
          "metadata": {},
          "output_type": "execute_result"
        }
      ],
      "source": [
        "# create a list with the elements name and age\n",
        "# Store the Elements of the list as keys in a dictionary \n",
        "L=['name','age']\n",
        "\n",
        "#code here  \n",
        "d3=dict.fromkeys(L)\n",
        "# check d3\n",
        "d3   # the values of the keys are none"
      ]
    },
    {
      "cell_type": "code",
      "execution_count": null,
      "metadata": {
        "id": "fZeMvfYk8A6T",
        "outputId": "852effa5-7f8a-4c5c-93de-c94964b0faa1"
      },
      "outputs": [
        {
          "data": {
            "text/plain": [
              "{'name': 'Lisa', 'age': 3}"
            ]
          },
          "execution_count": 42,
          "metadata": {},
          "output_type": "execute_result"
        }
      ],
      "source": [
        "# add values for the keys\n",
        "d3['name']='Lisa'\n",
        "d3['age']=3\n",
        "\n",
        "# show d3\n",
        "d3"
      ]
    },
    {
      "cell_type": "markdown",
      "metadata": {
        "id": "dOgzuNzK8A6W"
      },
      "source": [
        "## Dict Comprehensions"
      ]
    },
    {
      "cell_type": "code",
      "execution_count": null,
      "metadata": {
        "id": "sCna0VZo8A6X",
        "outputId": "6faf6e80-fde2-4786-f93e-3c9f5d5e0f20"
      },
      "outputs": [
        {
          "data": {
            "text/plain": [
              "{'apple': 5, 'mango': 5, 'banana': 6, 'cherry': 6}"
            ]
          },
          "execution_count": 44,
          "metadata": {},
          "output_type": "execute_result"
        }
      ],
      "source": [
        "# create a dict with fruits' names as keys for a dictionary and the values with the length of the key\n",
        "fruits = ['apple', 'mango', 'banana','cherry'] \n",
        "dd={ i:len(i)     for i in fruits}\n",
        "\n",
        "dd"
      ]
    },
    {
      "cell_type": "code",
      "execution_count": null,
      "metadata": {
        "id": "tTty2wCv8A6a"
      },
      "outputs": [],
      "source": [
        ""
      ]
    }
  ],
  "metadata": {
    "kernelspec": {
      "display_name": "Python 3",
      "language": "python",
      "name": "python3"
    },
    "language_info": {
      "codemirror_mode": {
        "name": "ipython",
        "version": 3
      },
      "file_extension": ".py",
      "mimetype": "text/x-python",
      "name": "python",
      "nbconvert_exporter": "python",
      "pygments_lexer": "ipython3",
      "version": "3.8.5"
    },
    "colab": {
      "name": "4.Dictionaries.ipynb",
      "provenance": []
    }
  },
  "nbformat": 4,
  "nbformat_minor": 0
}